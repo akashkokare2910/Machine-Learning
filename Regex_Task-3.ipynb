{
 "cells": [
  {
   "cell_type": "markdown",
   "id": "cde075b8",
   "metadata": {},
   "source": [
    "## Task- 3\n",
    "### Akash Kokare - SIRSS1046"
   ]
  },
  {
   "cell_type": "markdown",
   "id": "f3d52559",
   "metadata": {},
   "source": [
    "## 1. Write a function to return nth term of Fibonacci sequence."
   ]
  },
  {
   "cell_type": "code",
   "execution_count": 3,
   "id": "3159c059",
   "metadata": {},
   "outputs": [
    {
     "name": "stdout",
     "output_type": "stream",
     "text": [
      "enter the value: 7\n",
      "nth term Fibonacci is 8\n"
     ]
    }
   ],
   "source": [
    "def fibonacci(n):\n",
    "    if n < 0:\n",
    "        print(\"Ohhh.. Enter Positive integers only!!\")\n",
    "    elif n == 1:\n",
    "        return 0\n",
    "    elif n == 2:\n",
    "        return 1\n",
    "    else:\n",
    "        return fibonacci(n-1)+fibonacci(n-2)\n",
    "\n",
    "\n",
    "number = int(input(\"enter the value: \"))\n",
    "print(\"nth term Fibonacci is\" , fibonacci(number))"
   ]
  },
  {
   "cell_type": "markdown",
   "id": "dc6f31e5",
   "metadata": {},
   "source": [
    "## 2. Write a function to find out GCD of two numbers using EUCLID'S algorithm."
   ]
  },
  {
   "cell_type": "code",
   "execution_count": 4,
   "id": "72efeba8",
   "metadata": {},
   "outputs": [
    {
     "name": "stdout",
     "output_type": "stream",
     "text": [
      "Enter the first number : 18\n",
      "Enter the second number : 45\n",
      "GCD of (18,45) =  9\n"
     ]
    }
   ],
   "source": [
    "def gcd(num1, num2) :\n",
    "    if num2 == 0 :\n",
    "        return num1\n",
    "    else :\n",
    "        return gcd(num2, num1 % num2)\n",
    "        \n",
    "num1 = int(input(\"Enter the first number : \"))\n",
    "num2 = int(input(\"Enter the second number : \"))\n",
    "\n",
    "print(f\"GCD of ({num1},{num2}) = \", gcd(num1,num2))\n",
    "\n"
   ]
  },
  {
   "cell_type": "markdown",
   "id": "3c5bd5f3",
   "metadata": {},
   "source": [
    "## 3. Write a function to find LCM of two number in most optimizers way."
   ]
  },
  {
   "cell_type": "code",
   "execution_count": 7,
   "id": "5bb97e60",
   "metadata": {},
   "outputs": [
    {
     "name": "stdout",
     "output_type": "stream",
     "text": [
      "Enter the first number : 30\n",
      "Enter the second number : 40\n",
      "LCM of (30,40) =  120.0\n"
     ]
    }
   ],
   "source": [
    "def gcd(num1, num2) :\n",
    "    if num2 == 0 :\n",
    "        return num1\n",
    "    else :\n",
    "        return gcd(num2, num1 % num2)\n",
    "    \n",
    "def lcm(num1, num2) :\n",
    "    return (num1 / gcd(num1,num2)) * num2\n",
    "\n",
    "num1 = int(input(\"Enter the first number : \"))\n",
    "num2 = int(input(\"Enter the second number : \"))\n",
    "\n",
    "print(f\"LCM of ({num1},{num2}) = \", lcm(num1,num2))\n"
   ]
  }
 ],
 "metadata": {
  "kernelspec": {
   "display_name": "Python 3",
   "language": "python",
   "name": "python3"
  },
  "language_info": {
   "codemirror_mode": {
    "name": "ipython",
    "version": 3
   },
   "file_extension": ".py",
   "mimetype": "text/x-python",
   "name": "python",
   "nbconvert_exporter": "python",
   "pygments_lexer": "ipython3",
   "version": "3.8.5"
  }
 },
 "nbformat": 4,
 "nbformat_minor": 5
}
