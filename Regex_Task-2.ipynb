{
 "cells": [
  {
   "cell_type": "markdown",
   "id": "2ef3a63b",
   "metadata": {},
   "source": [
    "# "
   ]
  },
  {
   "cell_type": "markdown",
   "id": "bc3f908e",
   "metadata": {},
   "source": [
    "## Write a lambda expression to extract first word of a string."
   ]
  },
  {
   "cell_type": "code",
   "execution_count": 3,
   "id": "c008c538",
   "metadata": {},
   "outputs": [
    {
     "name": "stdout",
     "output_type": "stream",
     "text": [
      "Enter your string here: Hello Akash Here!!\n"
     ]
    },
    {
     "data": {
      "text/plain": [
       "'Hello'"
      ]
     },
     "execution_count": 3,
     "metadata": {},
     "output_type": "execute_result"
    }
   ],
   "source": [
    "\n",
    "anonymous = (lambda string: string.split()[0])\n",
    "string = input(\"Enter your string here: \")\n",
    "anonymous(string)"
   ]
  },
  {
   "cell_type": "markdown",
   "id": "c91c7290",
   "metadata": {},
   "source": [
    "## Write a function to extract first word of s string (with many words separated by space)."
   ]
  },
  {
   "cell_type": "code",
   "execution_count": 8,
   "id": "e1c4586a",
   "metadata": {},
   "outputs": [
    {
     "name": "stdout",
     "output_type": "stream",
     "text": [
      "Enter your string here: The sky is pink!!\n",
      "The\n"
     ]
    }
   ],
   "source": [
    "string = input(\"Enter your string here: \")\n",
    "def first_word(string):\n",
    "    return string.split()[0]\n",
    "print(first_word(string))"
   ]
  },
  {
   "cell_type": "markdown",
   "id": "f132ea2a",
   "metadata": {},
   "source": [
    "## Extract the first word from every string from a list of strings by using map function."
   ]
  },
  {
   "cell_type": "code",
   "execution_count": 1,
   "id": "a1b18d91",
   "metadata": {},
   "outputs": [
    {
     "data": {
      "text/plain": [
       "['Play', 'God', 'Among']"
      ]
     },
     "execution_count": 1,
     "metadata": {},
     "output_type": "execute_result"
    }
   ],
   "source": [
    "def first_word(n):\n",
    "    return n.split()[0]\n",
    "list1 = [\"Play your obligatory duty, because action is far better than inaction\", \"God is the best listener\", \"Among all kind of killers, time is the ultimate killer because it kills everything\"]\n",
    "a = list(map(first_word, list1))\n",
    "a"
   ]
  },
  {
   "cell_type": "markdown",
   "id": "7405d4ab",
   "metadata": {},
   "source": [
    "## Write a function to return a list of prime factors of a given number."
   ]
  },
  {
   "cell_type": "code",
   "execution_count": 19,
   "id": "1a44538e",
   "metadata": {},
   "outputs": [
    {
     "name": "stdout",
     "output_type": "stream",
     "text": [
      "Enter the no. here 45\n",
      "3\n",
      "3\n",
      "5\n",
      "None\n"
     ]
    }
   ],
   "source": [
    "import math\n",
    "def prime_factors(n):\n",
    "    while n % 2 == 0:\n",
    "        print(2)\n",
    "        n = n / 2\n",
    "    for i in range(3,int(math.sqrt(n))+1,2):\n",
    "        while n % i== 0:\n",
    "            print(i)\n",
    "            n = n / i\n",
    "    if n > 2:\n",
    "        print(n)\n",
    "n=int(input(\"Enter the no. here \"))\n",
    "print(prime_factors(n))"
   ]
  },
  {
   "cell_type": "markdown",
   "id": "08fbcc3c",
   "metadata": {},
   "source": [
    "## Write a function that finds 2nd largest among 4 numbers (Repetitions are allowed, without sorting)."
   ]
  },
  {
   "cell_type": "code",
   "execution_count": 33,
   "id": "e9336d3f",
   "metadata": {},
   "outputs": [
    {
     "name": "stdout",
     "output_type": "stream",
     "text": [
      "Enter no. of elements : 4\n",
      "\n",
      "Enter the no's : 45 19 10 99\n",
      "Here is the second highest number is :  45\n"
     ]
    }
   ],
   "source": [
    "n = int(input(\"Enter no. of elements : \"))\n",
    "list1 = list(map(int,input(\"\\nEnter the no's : \").strip().split()))[:n]\n",
    "\n",
    "maxi=max(list1[0],list1[1])\n",
    "secondmaxi=min(list1[0],list1[1])\n",
    "\n",
    "n =len(list1)\n",
    "\n",
    "for i in range(2,n):\n",
    "    if list1[i]>maxi:\n",
    "        secondmaxi=maxi\n",
    "        maxi=list1[i]\n",
    "    elif list1[i]>secondmaxi and \\\n",
    "        maxi != list1[i]:\n",
    "        secondmaxi=list1[i]\n",
    "\n",
    "print(\"Here is the second highest number is : \",\\\n",
    "str(secondmaxi))"
   ]
  },
  {
   "cell_type": "code",
   "execution_count": null,
   "id": "0f879d0f",
   "metadata": {},
   "outputs": [],
   "source": []
  }
 ],
 "metadata": {
  "kernelspec": {
   "display_name": "Python 3",
   "language": "python",
   "name": "python3"
  },
  "language_info": {
   "codemirror_mode": {
    "name": "ipython",
    "version": 3
   },
   "file_extension": ".py",
   "mimetype": "text/x-python",
   "name": "python",
   "nbconvert_exporter": "python",
   "pygments_lexer": "ipython3",
   "version": "3.8.5"
  }
 },
 "nbformat": 4,
 "nbformat_minor": 5
}
