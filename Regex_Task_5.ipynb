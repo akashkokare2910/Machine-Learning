{
  "nbformat": 4,
  "nbformat_minor": 0,
  "metadata": {
    "colab": {
      "name": "Regex-Task-5.ipynb",
      "provenance": []
    },
    "kernelspec": {
      "name": "python3",
      "display_name": "Python 3"
    },
    "language_info": {
      "name": "python"
    }
  },
  "cells": [
    {
      "cell_type": "markdown",
      "metadata": {
        "id": "_Z-B_j9PKZ5y"
      },
      "source": [
        "####Name: Akash Kokare \n",
        "####Reg_id: SIRSS1046"
      ]
    },
    {
      "cell_type": "markdown",
      "metadata": {
        "id": "yq5grqjz0gMy"
      },
      "source": [
        "Q1. Given a list of integers, write a function to return the sum of all prime numbers in that list."
      ]
    },
    {
      "cell_type": "code",
      "metadata": {
        "id": "aV0Iw4zLt1k_",
        "colab": {
          "base_uri": "https://localhost:8080/"
        },
        "outputId": "e557b9f2-90a7-44d3-e9f6-3df710d99409"
      },
      "source": [
        "no = int(input(\"Enter number of elements : \"))\n",
        "my_list = list(map(int,input(\"\\nEnter the numbers : \").strip().split()))[:no]\n",
        "def prime_sum(my_list, n):\n",
        "  maximum_value = max(my_list)\n",
        "  prime_no = [True for i in range(maximum_value + 1)]\n",
        "  prime_no[0] = False\n",
        "  prime_no[1] = False\n",
        "  for p in range(2, maximum_value + 1):\n",
        "    if(p * p > maximum_value):\n",
        "      break\n",
        "    if (prime_no[p] == True):\n",
        "      for i in range(p * 2, maximum_value + 1, p):\n",
        "        prime_no[i] = False\n",
        "  sum = 0\n",
        " \n",
        "  for i in range(n):\n",
        "    if (prime_no[my_list[i]]):\n",
        "      sum += my_list[i]\n",
        " \n",
        "  return sum\n",
        "n = len(my_list)\n",
        "print(prime_sum(my_list, n))"
      ],
      "execution_count": 14,
      "outputs": [
        {
          "output_type": "stream",
          "text": [
            "Enter number of elements : 5\n",
            "\n",
            "Enter the numbers : 1 3 5 7 11\n",
            "26\n"
          ],
          "name": "stdout"
        }
      ]
    },
    {
      "cell_type": "markdown",
      "metadata": {
        "id": "ZwwM_BSIdqhz"
      },
      "source": [
        "Given a list of integers, write a function to check whether the list is strictly increasing or not."
      ]
    },
    {
      "cell_type": "code",
      "metadata": {
        "colab": {
          "base_uri": "https://localhost:8080/"
        },
        "id": "NKGQsjxmYBhx",
        "outputId": "7f534494-259d-430b-92fd-da825987aacd"
      },
      "source": [
        "\n",
        "no = int(input(\"Enter number of elements : \"))\n",
        "my_list = list(map(int,input(\"\\nEnter the numbers : \").strip().split()))[:no]\n",
        "print (\"Original list : \" + str(my_list))\n",
        "\n",
        "# to check for strictly increasing list\n",
        "res = all(i < j for i, j in zip(my_list, my_list[1:]))\n",
        "5\n",
        "\n",
        "print (\"Is the list strictly increasing ? -: \" + str(res))"
      ],
      "execution_count": 11,
      "outputs": [
        {
          "output_type": "stream",
          "text": [
            "Enter number of elements : 5\n",
            "\n",
            "Enter the numbers : 2 3 5 7 11\n",
            "Original list : [2, 3, 5, 7, 11]\n",
            "Is the list strictly increasing ? -: True\n"
          ],
          "name": "stdout"
        }
      ]
    },
    {
      "cell_type": "markdown",
      "metadata": {
        "id": "P-PmlPdZGiv-"
      },
      "source": [
        "Q3.Write a function to check whether a given list is expanding or not (the difference between adjacent elements should keep on increasing)."
      ]
    },
    {
      "cell_type": "code",
      "metadata": {
        "id": "LXv1vFgYf71j",
        "colab": {
          "base_uri": "https://localhost:8080/"
        },
        "outputId": "aa44d11c-5cbd-4fad-a4c2-c26f03eb25ab"
      },
      "source": [
        "def exp(l):\n",
        "    diff=0\n",
        "    flag=False\n",
        "    for i in range(1,len(l)):\n",
        "        diff1=l[i]-l[i-1]\n",
        "        if diff>diff1:\n",
        "            flag=True\n",
        "            break\n",
        "        diff=diff1\n",
        "            \n",
        "    return  flag\n",
        "\n",
        "no = int(input(\"Enter number of elements : \"))\n",
        "my_list = list(map(int,input(\"\\nEnter the numbers : \").strip().split()))[:no]\n",
        "\n",
        "print('List is expanding: ',exp(my_list))"
      ],
      "execution_count": 12,
      "outputs": [
        {
          "output_type": "stream",
          "text": [
            "Enter number of elements : 5\n",
            "\n",
            "Enter the numbers : 1 3 5 7 9\n",
            "List is expanding:  False\n"
          ],
          "name": "stdout"
        }
      ]
    },
    {
      "cell_type": "markdown",
      "metadata": {
        "id": "iIrex3hjH7DQ"
      },
      "source": [
        "Q4.Write a function to calculate all permutations of a given string. (Without using itertools)"
      ]
    },
    {
      "cell_type": "code",
      "metadata": {
        "colab": {
          "base_uri": "https://localhost:8080/"
        },
        "id": "ocFx2c8mEsaJ",
        "outputId": "339fbe11-bf7f-44ff-df44-488004512cdc"
      },
      "source": [
        "def perm(string, steps = 0):\n",
        "    if steps == len(string):\n",
        "        print(\"\".join(string))\n",
        "\n",
        "    for i in range(steps, len(string)):\n",
        "\n",
        "        string_copy = [character for character in string]\n",
        "\n",
        "        string_copy[steps], string_copy[i] = string_copy[i], string_copy[steps]\n",
        "\n",
        "        perm(string_copy, steps + 1)\n",
        "perm(str(input(\"Enter the characters.: \")))"
      ],
      "execution_count": 13,
      "outputs": [
        {
          "output_type": "stream",
          "text": [
            "Enter the characters.: Anu\n",
            "Anu\n",
            "Aun\n",
            "nAu\n",
            "nuA\n",
            "unA\n",
            "uAn\n"
          ],
          "name": "stdout"
        }
      ]
    },
    {
      "cell_type": "code",
      "metadata": {
        "id": "EIlzfeQrLaRI"
      },
      "source": [
        ""
      ],
      "execution_count": null,
      "outputs": []
    }
  ]
}