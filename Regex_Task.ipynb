{
 "cells": [
  {
   "cell_type": "markdown",
   "id": "03f3c485-a37b-452c-af3c-2385dcba4690",
   "metadata": {
    "tags": []
   },
   "source": [
    "# 1. \n",
    "5 5 5 5 5\n",
    "5 5 5 5\n",
    "5 5 5\n",
    "5 5\n",
    "5\n"
   ]
  },
  {
   "cell_type": "code",
   "execution_count": null,
   "id": "54f6aaa6-e86e-4f82-8333-355b4424203e",
   "metadata": {},
   "outputs": [],
   "source": []
  },
  {
   "cell_type": "code",
   "execution_count": 5,
   "id": "bf846ecf-61e6-43df-9fe4-0d2f751fa1dc",
   "metadata": {},
   "outputs": [
    {
     "name": "stdin",
     "output_type": "stream",
     "text": [
      "Enter the no. of rows:  5\n"
     ]
    },
    {
     "name": "stdout",
     "output_type": "stream",
     "text": [
      "5 5 5 5 5 \n",
      "\n",
      "5 5 5 5 \n",
      "\n",
      "5 5 5 \n",
      "\n",
      "5 5 \n",
      "\n",
      "5 \n",
      "\n"
     ]
    }
   ],
   "source": [
    "n = int(input(\"Enter the no. of rows: \"))  \n",
    "for i in range(n,0,-1):\n",
    "    for j in range(1,i+1):\n",
    "        print(\"5\", end=\" \")\n",
    "    print(\"\\n\")"
   ]
  },
  {
   "cell_type": "markdown",
   "id": "cee5d749-d9d5-4317-9639-21884da92a0f",
   "metadata": {},
   "source": [
    "# 2.\n",
    "0 1 2 3 4 5\n",
    "0 1 2 3 4\n",
    "0 1 2 3\n",
    "0 1 2\n",
    "0 1"
   ]
  },
  {
   "cell_type": "code",
   "execution_count": 6,
   "id": "89267ff2-61fc-4ae7-9e14-9d2d7955c735",
   "metadata": {},
   "outputs": [
    {
     "name": "stdin",
     "output_type": "stream",
     "text": [
      "Enter the no. of rows:  5\n"
     ]
    },
    {
     "name": "stdout",
     "output_type": "stream",
     "text": [
      "0 1 2 3 4 5 \n",
      "\n",
      "0 1 2 3 4 \n",
      "\n",
      "0 1 2 3 \n",
      "\n",
      "0 1 2 \n",
      "\n",
      "0 1 \n",
      "\n"
     ]
    }
   ],
   "source": [
    "n = int(input(\"Enter the no. of rows: \"))  \n",
    "for i in range(n,0,-1):\n",
    "    for j in range(0,i+1):\n",
    "        print(j, end=\" \")\n",
    "    print(\"\\n\")"
   ]
  },
  {
   "cell_type": "markdown",
   "id": "08821192-7748-4339-9c59-334139141c5a",
   "metadata": {},
   "source": [
    "# 3.\n",
    "1\n",
    "3 3\n",
    "5 5 5\n",
    "7 7 7 7\n",
    "9 9 9 9 9"
   ]
  },
  {
   "cell_type": "code",
   "execution_count": 7,
   "id": "b00a2ea3-26d7-4bb8-859e-22dbeb7c5725",
   "metadata": {},
   "outputs": [
    {
     "name": "stdin",
     "output_type": "stream",
     "text": [
      "Enter the no. of rows:  5\n"
     ]
    },
    {
     "name": "stdout",
     "output_type": "stream",
     "text": [
      "1 \n",
      "3 3 \n",
      "5 5 5 \n",
      "7 7 7 7 \n",
      "9 9 9 9 9 \n"
     ]
    }
   ],
   "source": [
    "n = int(input(\"Enter the no. of rows: \"))  \n",
    "i = 1  \n",
    "while i <= n:  \n",
    "    j = 1   \n",
    "    while j <= i:  \n",
    "        print((i * 2 - 1), end=\" \")  \n",
    "        j += 1  \n",
    "    i += 1  \n",
    "    print()  "
   ]
  },
  {
   "cell_type": "markdown",
   "id": "0d5136c0-6373-4b7c-aa48-af6f55c5a515",
   "metadata": {},
   "source": [
    "# 4. \n",
    "1\n",
    "2 1\n",
    "3 2 1\n",
    "4 3 2 1\n",
    "5 4 3 2 1"
   ]
  },
  {
   "cell_type": "code",
   "execution_count": 9,
   "id": "256e90e3-cb44-413f-a1a5-118ca7cc1a09",
   "metadata": {},
   "outputs": [
    {
     "name": "stdin",
     "output_type": "stream",
     "text": [
      "Enter the no. of rows:  4\n"
     ]
    },
    {
     "name": "stdout",
     "output_type": "stream",
     "text": [
      "\n",
      "1 \n",
      "2 1 \n",
      "3 2 1 \n",
      "4 3 2 1 \n"
     ]
    }
   ],
   "source": [
    "n = int(input(\"Enter the no. of rows: \"))  \n",
    "for i in range(0, n + 1):  \n",
    "    for j in range(i,0,-1):  \n",
    "        print(j, end=' ')  \n",
    "    print()  "
   ]
  },
  {
   "cell_type": "markdown",
   "id": "53142120-4bcc-43e8-940c-2d1ade4fbc9f",
   "metadata": {},
   "source": [
    "# 5.\n",
    "1\n",
    "3 2\n",
    "6 5 4\n",
    "10 9 8 7"
   ]
  },
  {
   "cell_type": "code",
   "execution_count": 11,
   "id": "db25c622-cb4d-481d-a0e9-27279a4602f8",
   "metadata": {},
   "outputs": [
    {
     "name": "stdout",
     "output_type": "stream",
     "text": [
      "1 \n",
      "3 2 \n",
      "6 5 4 \n",
      "10 9 8 7 \n"
     ]
    }
   ],
   "source": [
    "a = 1\n",
    "b = 2\n",
    "n = b\n",
    "for row in range(2,6):\n",
    "    for col in range(a,b):\n",
    "        n -= 1\n",
    "        print(n , end = \" \")\n",
    "    print(\"\")\n",
    "    a = b\n",
    "    b += row\n",
    "    n = b"
   ]
  },
  {
   "cell_type": "markdown",
   "id": "adfe4e13-7793-42b2-bbe2-15469368e3e2",
   "metadata": {},
   "source": [
    "# 6.\n",
    "1\n",
    "1 1\n",
    "1 2 1\n",
    "1 3 3 1\n",
    "1 4 6 4 1\n",
    "1 5 10 10 5 1\n",
    "1 6 15 20 15 6 1"
   ]
  },
  {
   "cell_type": "code",
   "execution_count": 14,
   "id": "91fff180-2200-4f3e-81fc-c35c6281effd",
   "metadata": {},
   "outputs": [
    {
     "name": "stdin",
     "output_type": "stream",
     "text": [
      "Enter the no. of rows:  7\n"
     ]
    },
    {
     "name": "stdout",
     "output_type": "stream",
     "text": [
      "1 \n",
      "1 1 \n",
      "1 2 1 \n",
      "1 3 3 1 \n",
      "1 4 6 4 1 \n",
      "1 5 10 10 5 1 \n",
      "1 6 15 20 15 6 1 \n"
     ]
    }
   ],
   "source": [
    "def printPascal(n):\n",
    "    for line in range(1, n + 1):\n",
    "        C = 1;\n",
    "        for i in range(1, line + 1):\n",
    "            print(C, end = \" \");\n",
    "            C = int(C * (line - i) / i);\n",
    "        print(\"\");\n",
    "n = int(input(\"Enter the no. of rows: \")) \n",
    "printPascal(n);"
   ]
  },
  {
   "cell_type": "markdown",
   "id": "cc92fe43-75e0-429b-98cb-3bc22ed7c013",
   "metadata": {},
   "source": [
    "# 7.\n",
    "1 2 3 4 5\n",
    "2 2 3 4 5\n",
    "3 3 3 4 5\n",
    "4 4 4 4 5\n",
    "5 5 5 5 5\n"
   ]
  },
  {
   "cell_type": "code",
   "execution_count": 15,
   "id": "cbcfcedf-b60c-4a7a-8f1f-f96a9d38521f",
   "metadata": {},
   "outputs": [
    {
     "name": "stdin",
     "output_type": "stream",
     "text": [
      "Enter the no. of rows:  5\n"
     ]
    },
    {
     "name": "stdout",
     "output_type": "stream",
     "text": [
      "1 2 3 4 5 \n",
      "2 2 3 4 5 \n",
      "3 3 3 4 5 \n",
      "4 4 4 4 5 \n",
      "5 5 5 5 5 \n"
     ]
    }
   ],
   "source": [
    "n = int(input(\"Enter the no. of rows: \")) \n",
    "for i in range(1, n + 1):\n",
    "    for j in range(1, n + 1):\n",
    "        if j <= i:\n",
    "            print(i, end=\" \")\n",
    "        else:\n",
    "            print(j, end=\" \")\n",
    "    print()"
   ]
  },
  {
   "cell_type": "markdown",
   "id": "6e1de47c-9acf-4294-8a43-c36bbc597a16",
   "metadata": {},
   "source": [
    "# 8.\n",
    "1\n",
    "2 4\n",
    "3 6 9\n",
    "4 8 12 16\n",
    "5 10 15 20 25\n",
    "6 12 18 24 30 36\n",
    "7 14 21 28 35 42 49\n",
    "8 16 24 32 40 48 56 64"
   ]
  },
  {
   "cell_type": "code",
   "execution_count": 17,
   "id": "f889abab-c674-4261-bb57-a514d7b079e4",
   "metadata": {},
   "outputs": [
    {
     "name": "stdin",
     "output_type": "stream",
     "text": [
      "Enter the no. of rows:  8\n"
     ]
    },
    {
     "name": "stdout",
     "output_type": "stream",
     "text": [
      "1 \n",
      "2 4 \n",
      "3 6 9 \n",
      "4 8 12 16 \n",
      "5 10 15 20 25 \n",
      "6 12 18 24 30 36 \n",
      "7 14 21 28 35 42 49 \n",
      "8 16 24 32 40 48 56 64 \n"
     ]
    }
   ],
   "source": [
    "n = int(input(\"Enter the no. of rows: \")) \n",
    "for i in range(1, n + 1):\n",
    "    for j in range(1, i + 1):\n",
    "        square = i * j\n",
    "        print(i * j, end=\" \")\n",
    "    print()"
   ]
  },
  {
   "cell_type": "markdown",
   "id": "5077d30b-b1d4-4f97-b526-d47a6d8d555a",
   "metadata": {},
   "source": [
    "# 9.\n",
    "        * * * * * *\n",
    "         * * * * *\n",
    "          * * * *\n",
    "           * * *\n",
    "            * *\n",
    "             *"
   ]
  },
  {
   "cell_type": "code",
   "execution_count": 22,
   "id": "80596152-2c78-4284-ac7c-296af704b175",
   "metadata": {},
   "outputs": [
    {
     "name": "stdin",
     "output_type": "stream",
     "text": [
      "Enter the no. of rows:  6\n"
     ]
    },
    {
     "name": "stdout",
     "output_type": "stream",
     "text": [
      "          * * * * * * * \n",
      "           * * * * * * \n",
      "            * * * * * \n",
      "             * * * * \n",
      "              * * * \n",
      "               * * \n",
      "                * \n"
     ]
    }
   ],
   "source": [
    "n = int(input(\"Enter the no. of rows: \")) \n",
    "k = 2 * n - 2\n",
    "for i in range(n, -1, -1):\n",
    "    for j in range(k, 0, -1):\n",
    "        print(end=\" \")\n",
    "    k = k + 1\n",
    "    for j in range(0, i + 1):\n",
    "        print(\"*\", end=\" \")\n",
    "    print(\"\")"
   ]
  },
  {
   "cell_type": "markdown",
   "id": "b0a50599-481f-4dd7-b561-3b752b9f3eda",
   "metadata": {},
   "source": [
    "# 10.\n",
    "            *\n",
    "           * *\n",
    "          * * *\n",
    "         * * * *\n",
    "        * * * * *\n",
    "       * * * * * *\n",
    "      * * * * * * *"
   ]
  },
  {
   "cell_type": "code",
   "execution_count": 23,
   "id": "ffdc5bbd-7093-4ffb-9887-e0d4286ec45e",
   "metadata": {},
   "outputs": [
    {
     "name": "stdin",
     "output_type": "stream",
     "text": [
      "Enter the no. of rows:  7\n"
     ]
    },
    {
     "name": "stdout",
     "output_type": "stream",
     "text": [
      "            *   \n",
      "           *  *   \n",
      "          *  *  *   \n",
      "         *  *  *  *   \n",
      "        *  *  *  *  *   \n",
      "       *  *  *  *  *  *   \n",
      "      *  *  *  *  *  *  *   \n"
     ]
    }
   ],
   "source": [
    "n = int(input(\"Enter the no. of rows: \"))\n",
    "m = (2 * n) - 2\n",
    "for i in range(0, n):\n",
    "    for j in range(0, m):\n",
    "        print(end=\" \")\n",
    "    m = m - 1\n",
    "    for j in range(0, i + 1):\n",
    "        print(\"* \", end=' ')\n",
    "    print(\" \")"
   ]
  },
  {
   "cell_type": "markdown",
   "id": "07cd3740-d4e2-4847-a76b-fd78f4cde902",
   "metadata": {},
   "source": [
    "# 11.\n",
    "        *\n",
    "        * *\n",
    "        * * *\n",
    "        * * * *\n",
    "        * * * * *\n",
    "        * * * * * *\n",
    "        \n",
    "        * * * * * *\n",
    "        * * * * *\n",
    "        * * * *\n",
    "        * * *\n",
    "        * *\n",
    "        *"
   ]
  },
  {
   "cell_type": "code",
   "execution_count": 24,
   "id": "9dbd04fc-f21b-4c93-9ccd-abe604af5ce4",
   "metadata": {},
   "outputs": [
    {
     "name": "stdin",
     "output_type": "stream",
     "text": [
      "Enter the no. of rows:  6\n"
     ]
    },
    {
     "name": "stdout",
     "output_type": "stream",
     "text": [
      "*  \n",
      "* *  \n",
      "* * *  \n",
      "* * * *  \n",
      "* * * * *  \n",
      "* * * * * *  \n",
      " \n",
      "* * * * * *  \n",
      "* * * * *  \n",
      "* * * *  \n",
      "* * *  \n",
      "* *  \n",
      "*  \n",
      " \n"
     ]
    }
   ],
   "source": [
    "n = int(input(\"Enter the no. of rows: \"))\n",
    "for i in range(0, n):\n",
    "    for j in range(0, i + 1):\n",
    "        print(\"*\", end=' ')\n",
    "    print(\" \")\n",
    "\n",
    "print(\" \")\n",
    "\n",
    "for i in range(n + 1, 0, -1):\n",
    "    for j in range(0, i - 1):\n",
    "        print(\"*\", end=' ')\n",
    "    print(\" \")"
   ]
  },
  {
   "cell_type": "markdown",
   "id": "bdb3760a-33c7-4f74-bb21-962ea0582bf9",
   "metadata": {},
   "source": [
    "# 12.\n",
    "        *\n",
    "        * *\n",
    "        * * *\n",
    "        * * * *\n",
    "        * * * * *\n",
    "        * * * *\n",
    "        * * *\n",
    "        * *\n",
    "        *"
   ]
  },
  {
   "cell_type": "code",
   "execution_count": 25,
   "id": "06d20363-883f-4364-bc79-41a85b33b900",
   "metadata": {},
   "outputs": [
    {
     "name": "stdin",
     "output_type": "stream",
     "text": [
      "Enter the no. of rows:  5\n"
     ]
    },
    {
     "name": "stdout",
     "output_type": "stream",
     "text": [
      "* \n",
      "* * \n",
      "* * * \n",
      "* * * * \n",
      "* * * * * \n",
      "* * * * \n",
      "* * * \n",
      "* * \n",
      "* \n",
      "\n"
     ]
    }
   ],
   "source": [
    "n = int(input(\"Enter the no. of rows: \"))\n",
    "for i in range(0, n):\n",
    "    for j in range(0, i + 1):\n",
    "        print(\"*\", end=' ')\n",
    "    print(\"\\r\")\n",
    "\n",
    "for i in range(n, 0, -1):\n",
    "    for j in range(0, i - 1):\n",
    "        print(\"*\", end=' ')\n",
    "    print(\"\\r\")"
   ]
  },
  {
   "cell_type": "markdown",
   "id": "a425204a-5a07-4093-8066-d726764284aa",
   "metadata": {},
   "source": [
    "# 13.\n",
    "        *\n",
    "      * *\n",
    "    * * *\n",
    "  * * * *\n",
    "* * * * *\n",
    "  * * * *\n",
    "    * * *\n",
    "      * *\n",
    "        *"
   ]
  },
  {
   "cell_type": "code",
   "execution_count": 26,
   "id": "8ce009bf-020a-49e2-bcb3-85188966c60f",
   "metadata": {},
   "outputs": [
    {
     "name": "stdin",
     "output_type": "stream",
     "text": [
      "Enter the no. of rows:  5\n"
     ]
    },
    {
     "name": "stdout",
     "output_type": "stream",
     "text": [
      "        * \n",
      "      * * \n",
      "    * * * \n",
      "  * * * * \n",
      "* * * * * \n",
      "  * * * * \n",
      "    * * * \n",
      "      * * \n",
      "        * \n",
      "          \n"
     ]
    }
   ],
   "source": [
    "n = int(input(\"Enter the no. of rows: \"))\n",
    "i = 1\n",
    "while i <= n:\n",
    "    j = i\n",
    "    while j < n:\n",
    "        # display space\n",
    "        print(' ', end=' ')\n",
    "        j += 1\n",
    "    k = 1\n",
    "    while k <= i:\n",
    "        print('*', end=' ')\n",
    "        k += 1\n",
    "    print()\n",
    "    i += 1\n",
    "\n",
    "i = n\n",
    "while i >= 1:\n",
    "    j = i\n",
    "    while j <= n:\n",
    "        print(' ', end=' ')\n",
    "        j += 1\n",
    "    k = 1\n",
    "    while k < i:\n",
    "        print('*', end=' ')\n",
    "        k += 1\n",
    "    print('')\n",
    "    i -= 1"
   ]
  },
  {
   "cell_type": "markdown",
   "id": "78818f39-99d5-437a-92a0-b488d69706c7",
   "metadata": {},
   "source": [
    "# 14.\n",
    "        * * * * *\n",
    "         * * * *\n",
    "          * * *\n",
    "           * *\n",
    "            *\n",
    "            *\n",
    "           * *\n",
    "          * * *\n",
    "         * * * *\n",
    "        * * * * *"
   ]
  },
  {
   "cell_type": "code",
   "execution_count": 27,
   "id": "04baa5f3-9518-4bcb-b338-3b396ac220ea",
   "metadata": {},
   "outputs": [
    {
     "name": "stdin",
     "output_type": "stream",
     "text": [
      "Enter the no. of rows:  5\n"
     ]
    },
    {
     "name": "stdout",
     "output_type": "stream",
     "text": [
      "* * * * * \n",
      " * * * * \n",
      "  * * * \n",
      "   * * \n",
      "    * \n",
      "    * \n",
      "   * * \n",
      "  * * * \n",
      " * * * * \n",
      "* * * * * \n"
     ]
    }
   ],
   "source": [
    "n = int(input(\"Enter the no. of rows: \"))\n",
    "i = 0\n",
    "while i <= n - 1:\n",
    "    j = 0\n",
    "    while j < i:\n",
    "        print('', end=' ')\n",
    "        j += 1\n",
    "    k = i\n",
    "    while k <= n - 1:\n",
    "        print('*', end=' ')\n",
    "        k += 1\n",
    "    print()\n",
    "    i += 1\n",
    "\n",
    "i = n - 1\n",
    "while i >= 0:\n",
    "    j = 0\n",
    "    while j < i:\n",
    "        print('', end=' ')\n",
    "        j += 1\n",
    "    k = i\n",
    "    while k <= n - 1:\n",
    "        print('*', end=' ')\n",
    "        k += 1\n",
    "    print('')\n",
    "    i -= 1"
   ]
  },
  {
   "cell_type": "markdown",
   "id": "00e4384a-9823-48b0-ad7b-44450c90053f",
   "metadata": {},
   "source": [
    "# 15.\n",
    "****************\n",
    "*******__*******\n",
    "******____******\n",
    "*****______*****\n",
    "****________****\n",
    "***__________***\n",
    "**____________**\n",
    "*______________*"
   ]
  },
  {
   "cell_type": "code",
   "execution_count": 28,
   "id": "db77d0bf-aed0-4e51-87be-c26c2f90dea4",
   "metadata": {},
   "outputs": [
    {
     "name": "stdin",
     "output_type": "stream",
     "text": [
      "Enter the no. of rows:  14\n"
     ]
    },
    {
     "name": "stdout",
     "output_type": "stream",
     "text": [
      "**************\n",
      "******__******\n",
      "*****____*****\n",
      "****______****\n",
      "***________***\n",
      "**__________**\n",
      "*____________*\n"
     ]
    }
   ],
   "source": [
    "n = int(input(\"Enter the no. of rows: \"))\n",
    "print(\"*\" * n, end=\"\\n\")\n",
    "i = (n // 2) - 1\n",
    "j = 2\n",
    "while i != 0:\n",
    "    while j <= (n - 2):\n",
    "        print(\"*\" * i, end=\"\")\n",
    "        print(\"_\" * j, end=\"\")\n",
    "        print(\"*\" * i, end=\"\\n\")\n",
    "        i = i - 1\n",
    "        j = j + 2"
   ]
  },
  {
   "cell_type": "code",
   "execution_count": null,
   "id": "6e06d7ff-bbb2-4512-833f-984faf7965e3",
   "metadata": {},
   "outputs": [],
   "source": []
  }
 ],
 "metadata": {
  "kernelspec": {
   "display_name": "Python 3",
   "language": "python",
   "name": "python3"
  },
  "language_info": {
   "codemirror_mode": {
    "name": "ipython",
    "version": 3
   },
   "file_extension": ".py",
   "mimetype": "text/x-python",
   "name": "python",
   "nbconvert_exporter": "python",
   "pygments_lexer": "ipython3",
   "version": "3.8.5"
  }
 },
 "nbformat": 4,
 "nbformat_minor": 5
}
